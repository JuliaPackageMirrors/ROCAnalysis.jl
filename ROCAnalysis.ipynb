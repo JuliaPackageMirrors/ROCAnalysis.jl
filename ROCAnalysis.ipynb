{
 "cells": [
  {
   "cell_type": "code",
   "execution_count": 1,
   "metadata": {
    "collapsed": false
   },
   "outputs": [],
   "source": [
    "# Pkg.add(\"ROCAnalysis\")"
   ]
  },
  {
   "cell_type": "code",
   "execution_count": 2,
   "metadata": {
    "collapsed": true
   },
   "outputs": [],
   "source": [
    "using ROCAnalysis"
   ]
  },
  {
   "cell_type": "markdown",
   "metadata": {},
   "source": [
    "This package analyses the results of a probabilistic binary classifier.  We'll assume that the classifier generates scores that tend to be higher towards the \"target\" class, and lower towards the \"non-target\" class.  \n",
    "\n",
    "In this notebook we will simulate the scores, by generating them from two separate distributions.  We'll do this in a way that the scores can be considered _well-calibrated log-likelihood-ratio_ scores, i.e., the scores are supposed to be probabilistically interpretable as llr $\\ell$\n",
    "\n",
    "$$\\ell = \\log \\dfrac{P({\\rm data} \\mid {\\rm target})}{P({\\rm data} \\mid {\\rm nontarget})}$$"
   ]
  },
  {
   "cell_type": "code",
   "execution_count": 3,
   "metadata": {
    "collapsed": false
   },
   "outputs": [
    {
     "data": {
      "text/plain": [
       "100000-element Array{Float64,1}:\n",
       " -2.07315  \n",
       "  1.26021  \n",
       " -2.77401  \n",
       " -2.00188  \n",
       "  0.362536 \n",
       " -5.56341  \n",
       "  2.37313  \n",
       " -3.18459  \n",
       " -3.17115  \n",
       " -2.16684  \n",
       " -2.50414  \n",
       " -0.859111 \n",
       " -3.70103  \n",
       "  ⋮        \n",
       " -4.69756  \n",
       " -0.518936 \n",
       " -5.2179   \n",
       " -2.24738  \n",
       " -2.66736  \n",
       " -1.95722  \n",
       " -5.55885  \n",
       " -0.0991913\n",
       " -1.43026  \n",
       " -0.166751 \n",
       " -2.39695  \n",
       " -5.20764  "
      ]
     },
     "execution_count": 3,
     "metadata": {},
     "output_type": "execute_result"
    }
   ],
   "source": [
    "## Produce some well-calibrated log-likelihood-ratio scores for target and non-target class:\n",
    "tar =  2 + 2randn(1000)\n",
    "non = -2 + 2randn(100000)"
   ]
  },
  {
   "cell_type": "markdown",
   "metadata": {},
   "source": [
    "These scores are well-calibrated, because their distribution follows the defining property\n",
    "\n",
    "$$\\ell = \\log \\dfrac{P(\\ell \\mid {\\rm target})}{P(\\ell \\mid {\\rm nontarget})}$$"
   ]
  },
  {
   "cell_type": "code",
   "execution_count": 4,
   "metadata": {
    "collapsed": false
   },
   "outputs": [
    {
     "data": {
      "text/plain": [
       "0.16189000000170933"
      ]
     },
     "execution_count": 4,
     "metadata": {},
     "output_type": "execute_result"
    }
   ],
   "source": [
    "## quick estimate of equal error rate, should be close to pnorm(-1) = 0.5 + 0.5erf(-1/√2)\n",
    "eer(tar, non) "
   ]
  },
  {
   "cell_type": "markdown",
   "metadata": {},
   "source": [
    "The equal error rate is an important one-valued summary of the ROC curve (see below for a plot).  It is the point at which falso positive and false negative rates are the same. "
   ]
  },
  {
   "cell_type": "code",
   "execution_count": 5,
   "metadata": {
    "collapsed": false
   },
   "outputs": [
    {
     "data": {
      "text/plain": [
       "0.15865525393145707"
      ]
     },
     "execution_count": 5,
     "metadata": {},
     "output_type": "execute_result"
    }
   ],
   "source": [
    "pnorm(-1)"
   ]
  },
  {
   "cell_type": "markdown",
   "metadata": {},
   "source": [
    "For the score generated above from a Gaussian distribution, we can derive the theoretical EER quite easily.  It is related to the quantile function of the normal distribution.  "
   ]
  },
  {
   "cell_type": "code",
   "execution_count": 6,
   "metadata": {
    "collapsed": false
   },
   "outputs": [
    {
     "data": {
      "text/plain": [
       "Roc{Float64}([1.0,0.9499,0.9499,0.82241,0.82241,0.78042,0.78042,0.76183,0.76183,0.75809  …  4.0e-5,4.0e-5,3.0e-5,3.0e-5,2.0e-5,2.0e-5,1.0e-5,1.0e-5,0.0,0.0],[0.0,0.0,0.001,0.001,0.002,0.002,0.003,0.003,0.004,0.004  …  0.978,0.979,0.979,0.983,0.983,0.993,0.993,0.994,0.994,1.0],Bool[true,true,false,true,false,true,false,false,false,false  …  false,false,true,false,true,false,false,false,true,true],[-10.4608,-5.30465,-5.30458,-3.86067,-3.86062,-3.55751,-3.5575,-3.43531,-3.43528,-3.41237  …  5.90006,5.92141,5.93163,5.95661,6.1036,6.12241,6.77464,6.78706,6.8077,6.89813],[-Inf,-4.84804,-4.84804,-3.73743,-3.73743,-3.12336,-3.12336,-3.12336,-3.12336,-3.12336  …  5.52146,5.52146,5.52146,5.99146,5.99146,6.30992,6.30992,6.30992,6.30992,Inf])"
      ]
     },
     "execution_count": 6,
     "metadata": {},
     "output_type": "execute_result"
    }
   ],
   "source": [
    "## compute full ROC statistics\n",
    "r = roc(tar, non)"
   ]
  },
  {
   "cell_type": "markdown",
   "metadata": {},
   "source": [
    "Admittedly not pretty printed---but we can call in the help from `DataFrames` to undestand the data structure of a `Roc` object\n",
    "\n",
    " - `pfa` the false alarm rate\n",
    " - `pmiss` the miss rate\n",
    " - `thres` the thereshold, separating this line's `pfa` and `pmiss` from the next\n",
    " - `chull` indicating if this point is on the convex hull of the ROC curve\n",
    " - `llr` the optimal log-likelihood-ratio score for all data points contributing to the ROC line segment from this line to the next\n",
    "\n",
    "The last entry, `llr`, corresponds to the negative slope of the ROC convex hull, and has a direct relation to the \"minimum\" versions of the various metrics below. "
   ]
  },
  {
   "cell_type": "code",
   "execution_count": 7,
   "metadata": {
    "collapsed": false
   },
   "outputs": [
    {
     "data": {
      "text/html": [
       "<table class=\"data-frame\"><tr><th></th><th>pfa</th><th>pmiss</th><th>thres</th><th>chull</th><th>llr</th></tr><tr><th>1</th><td>1.0</td><td>0.0</td><td>-10.460788711127652</td><td>true</td><td>-Inf</td></tr><tr><th>2</th><td>0.9499</td><td>0.0</td><td>-5.3046497022843235</td><td>true</td><td>-4.8480379301500305</td></tr><tr><th>3</th><td>0.9499</td><td>0.001</td><td>-5.30458498161831</td><td>false</td><td>-4.8480379301500305</td></tr><tr><th>4</th><td>0.82241</td><td>0.001</td><td>-3.860673806861225</td><td>true</td><td>-3.7374314946961014</td></tr><tr><th>5</th><td>0.82241</td><td>0.002</td><td>-3.8606228161135743</td><td>false</td><td>-3.7374314946961014</td></tr><tr><th>6</th><td>0.78042</td><td>0.002</td><td>-3.5575129972192743</td><td>true</td><td>-3.123355623010789</td></tr><tr><th>7</th><td>0.78042</td><td>0.003</td><td>-3.5574973729484256</td><td>false</td><td>-3.123355623010789</td></tr><tr><th>8</th><td>0.76183</td><td>0.003</td><td>-3.4353053250047045</td><td>false</td><td>-3.123355623010789</td></tr><tr><th>9</th><td>0.76183</td><td>0.004</td><td>-3.435282799786874</td><td>false</td><td>-3.123355623010789</td></tr><tr><th>10</th><td>0.75809</td><td>0.004</td><td>-3.412369257862264</td><td>false</td><td>-3.123355623010789</td></tr><tr><th>11</th><td>0.75809</td><td>0.005</td><td>-3.4122980898842608</td><td>false</td><td>-3.123355623010789</td></tr><tr><th>12</th><td>0.7221</td><td>0.005</td><td>-3.1918435091506874</td><td>false</td><td>-3.123355623010789</td></tr><tr><th>13</th><td>0.7221</td><td>0.006</td><td>-3.191836772324505</td><td>false</td><td>-3.123355623010789</td></tr><tr><th>14</th><td>0.68953</td><td>0.006</td><td>-2.9969709775369227</td><td>true</td><td>-3.072693314690117</td></tr><tr><th>15</th><td>0.68953</td><td>0.007</td><td>-2.9969236431796666</td><td>false</td><td>-3.072693314690117</td></tr><tr><th>16</th><td>0.66793</td><td>0.007</td><td>-2.8767731330448836</td><td>true</td><td>-2.6625878270254537</td></tr><tr><th>17</th><td>0.66793</td><td>0.008</td><td>-2.876749110421109</td><td>false</td><td>-2.6625878270254537</td></tr><tr><th>18</th><td>0.65742</td><td>0.008</td><td>-2.8192801402229506</td><td>false</td><td>-2.6625878270254537</td></tr><tr><th>19</th><td>0.65742</td><td>0.009</td><td>-2.819217845645894</td><td>false</td><td>-2.6625878270254537</td></tr><tr><th>20</th><td>0.65227</td><td>0.009</td><td>-2.790429948709704</td><td>false</td><td>-2.6625878270254537</td></tr><tr><th>21</th><td>0.65227</td><td>0.01</td><td>-2.790400086794297</td><td>false</td><td>-2.6625878270254537</td></tr><tr><th>22</th><td>0.62493</td><td>0.01</td><td>-2.6457117329456707</td><td>true</td><td>-2.2463321514432475</td></tr><tr><th>23</th><td>0.62493</td><td>0.011</td><td>-2.6456268676062886</td><td>false</td><td>-2.2463321514432475</td></tr><tr><th>24</th><td>0.62234</td><td>0.011</td><td>-2.6292810192975633</td><td>false</td><td>-2.2463321514432475</td></tr><tr><th>25</th><td>0.62234</td><td>0.012</td><td>-2.629247662171437</td><td>false</td><td>-2.2463321514432475</td></tr><tr><th>26</th><td>0.60635</td><td>0.012</td><td>-2.5455200681107035</td><td>false</td><td>-2.2463321514432475</td></tr><tr><th>27</th><td>0.60635</td><td>0.013</td><td>-2.545410067880958</td><td>false</td><td>-2.2463321514432475</td></tr><tr><th>28</th><td>0.60524</td><td>0.013</td><td>-2.5411735291179287</td><td>false</td><td>-2.2463321514432475</td></tr><tr><th>29</th><td>0.60524</td><td>0.014</td><td>-2.541136499570673</td><td>false</td><td>-2.2463321514432475</td></tr><tr><th>30</th><td>0.5997399999999999</td><td>0.014</td><td>-2.512500290844086</td><td>false</td><td>-2.2463321514432475</td></tr><tr><th>&vellip;</th><td>&vellip;</td><td>&vellip;</td><td>&vellip;</td><td>&vellip;</td><td>&vellip;</td></tr></table>"
      ],
      "text/plain": [
       "1701x5 DataFrame\n",
       "| Row  | pfa     | pmiss | thres    | chull | llr      |\n",
       "|------|---------|-------|----------|-------|----------|\n",
       "| 1    | 1.0     | 0.0   | -10.4608 | true  | -Inf     |\n",
       "| 2    | 0.9499  | 0.0   | -5.30465 | true  | -4.84804 |\n",
       "| 3    | 0.9499  | 0.001 | -5.30458 | false | -4.84804 |\n",
       "| 4    | 0.82241 | 0.001 | -3.86067 | true  | -3.73743 |\n",
       "| 5    | 0.82241 | 0.002 | -3.86062 | false | -3.73743 |\n",
       "| 6    | 0.78042 | 0.002 | -3.55751 | true  | -3.12336 |\n",
       "| 7    | 0.78042 | 0.003 | -3.5575  | false | -3.12336 |\n",
       "| 8    | 0.76183 | 0.003 | -3.43531 | false | -3.12336 |\n",
       "| 9    | 0.76183 | 0.004 | -3.43528 | false | -3.12336 |\n",
       "| 10   | 0.75809 | 0.004 | -3.41237 | false | -3.12336 |\n",
       "| 11   | 0.75809 | 0.005 | -3.4123  | false | -3.12336 |\n",
       "⋮\n",
       "| 1690 | 5.0e-5  | 0.974 | 5.75262  | true  | 5.52146  |\n",
       "| 1691 | 5.0e-5  | 0.978 | 5.90006  | false | 5.52146  |\n",
       "| 1692 | 4.0e-5  | 0.978 | 5.92141  | false | 5.52146  |\n",
       "| 1693 | 4.0e-5  | 0.979 | 5.93163  | false | 5.52146  |\n",
       "| 1694 | 3.0e-5  | 0.979 | 5.95661  | true  | 5.99146  |\n",
       "| 1695 | 3.0e-5  | 0.983 | 6.1036   | false | 5.99146  |\n",
       "| 1696 | 2.0e-5  | 0.983 | 6.12241  | true  | 6.30992  |\n",
       "| 1697 | 2.0e-5  | 0.993 | 6.77464  | false | 6.30992  |\n",
       "| 1698 | 1.0e-5  | 0.993 | 6.78706  | false | 6.30992  |\n",
       "| 1699 | 1.0e-5  | 0.994 | 6.8077   | false | 6.30992  |\n",
       "| 1700 | 0.0     | 0.994 | 6.89813  | true  | Inf      |\n",
       "| 1701 | 0.0     | 1.0   | NA       | true  | NA       |"
      ]
     },
     "execution_count": 7,
     "metadata": {},
     "output_type": "execute_result"
    }
   ],
   "source": [
    "using DataFrames\n",
    "DataFrame(r)"
   ]
  },
  {
   "cell_type": "code",
   "execution_count": 8,
   "metadata": {
    "collapsed": false
   },
   "outputs": [
    {
     "data": {
      "text/plain": [
       "0.16096229971724785"
      ]
     },
     "execution_count": 8,
     "metadata": {},
     "output_type": "execute_result"
    }
   ],
   "source": [
    "## accurate computation of the equal error rate, using the convex hull\n",
    "eerch(r)"
   ]
  },
  {
   "cell_type": "code",
   "execution_count": 9,
   "metadata": {
    "collapsed": false
   },
   "outputs": [
    {
     "data": {
      "image/png": "[encoded data removed]",
      "text/plain": [
       "FramedPlot(...)"
      ]
     },
     "execution_count": 9,
     "metadata": {},
     "output_type": "execute_result"
    }
   ],
   "source": [
    "using Winston ## or perhaps another plotting package \n",
    "plot(r)"
   ]
  },
  {
   "cell_type": "markdown",
   "metadata": {},
   "source": [
    "The axes of a ROC plot are named \"Probability of False Alarm\" (false positive rate) and \"Probability of Miss\" (false negative rate).  There are many names for these (see the `README.md`).  A note aoutb this way of plotting:\n",
    " \n",
    " - The verical axis (like the horizontal) is an _error_ rate, and not its complement, the _hit_ rate.  This means that a \"good\" ROC curve here goes towards the lower left corner, and not the upper left corner.  In literature one traditionally comes across the true positive rate vs. false positive rate, which is an \"upper-left\" style of ROC. "
   ]
  },
  {
   "cell_type": "code",
   "execution_count": 10,
   "metadata": {
    "collapsed": false
   },
   "outputs": [
    {
     "data": {
      "image/png": "[encoded data removed]",
      "text/plain": [
       "FramedPlot(...)"
      ]
     },
     "execution_count": 10,
     "metadata": {},
     "output_type": "execute_result"
    }
   ],
   "source": [
    "## The \"Detection Error Tradeoff\" plot, this should give a more/less straight line\n",
    "detplot(r)"
   ]
  },
  {
   "cell_type": "markdown",
   "metadata": {},
   "source": [
    "A Detection Error Trade-off plot (DET plot) shows _the same_ information as the ROC plot above---but the scales are warped according to the inverse of the cumulative normal distribution.  This way of plotting has many advantages:\n",
    "\n",
    "- If the distributions of target and non-target scores are both Normal, then the DET-curve is a straight line.  In practice, many detection problems give rise to more-or-less straight DET curves, and this suggests that there exists a strictly increasing warping function that can make the score distributions (more) Normal. \n",
    "\n",
    "- Towards better performance (lower error rates), the resolution of the graph is higher.  This makes it more easy to have multiple systems / performance characteristics over a smaller or wider range of performance in the same graph, and still be able to tell these apart.\n",
    "\n",
    "- Conventionally, the ranges of the axes are chosen 0.1%--50%---and the plot area should _really_ be square.  This makes it possible to immediately assess the overall performance based on the absolute position of the line in the graph if you have seen more DET plots in your life.\n",
    "\n",
    "- The slope of the (straight) line corresponds to the ratio of the `σ` parameters of the underlying Normal score distributions, namely that of the non-target scores divided by that of the target scores.  Often, highly discriminative classifiers show very _flat_ curves, indicating that that target scores have a much larger variance than the non-target scores.  \n",
    "\n",
    "- The origin of this type of plot lies in psychophysics, where graph paper with lines according to this warping was referred to as _double probability paper_.  The diagonal $y=x$ in a DET plot corresponds linearly to a quantity known as $d'$ (d-prime) from psychophysics, ranging from 0 at 50% error to about 6 at 0.1% error. "
   ]
  },
  {
   "cell_type": "code",
   "execution_count": 11,
   "metadata": {
    "collapsed": false
   },
   "outputs": [
    {
     "data": {
      "text/plain": [
       "0.08274318000000001"
      ]
     },
     "execution_count": 11,
     "metadata": {},
     "output_type": "execute_result"
    }
   ],
   "source": [
    "## compute the Area Under the ROC, should be close to 0.078\n",
    "auc(r)"
   ]
  },
  {
   "cell_type": "markdown",
   "metadata": {},
   "source": [
    "Please note, that traditionally the AUC is the complement of this.  However, in this package all metrics are \"error\" and \"cost\" like, so low numbers always indicate better performance.  If you really need the traditional sense"
   ]
  },
  {
   "cell_type": "code",
   "execution_count": 12,
   "metadata": {
    "collapsed": false
   },
   "outputs": [
    {
     "data": {
      "text/plain": [
       "0.91725682"
      ]
     },
     "execution_count": 12,
     "metadata": {},
     "output_type": "execute_result"
    }
   ],
   "source": [
    "AUC(x) = 1-auc(x)\n",
    "AUC(r)"
   ]
  },
  {
   "cell_type": "code",
   "execution_count": 13,
   "metadata": {
    "collapsed": false
   },
   "outputs": [
    {
     "data": {
      "text/plain": [
       "Ptar = 0.01, Cfa = 1, Cmiss = 10\n",
       " prior log-odds = -2.292534757140544\n",
       " effective prior odds = 0.10101010101010102\n",
       " effective prior = 0.09174311926605504\n"
      ]
     },
     "execution_count": 13,
     "metadata": {},
     "output_type": "execute_result"
    }
   ],
   "source": [
    "## define a decision cost function by its parameter p_tar=0.01, Cfa=1, Cmiss=10 (NIST SRE 2008 setting)\n",
    "d = DCF(0.01, 1, 10)"
   ]
  },
  {
   "cell_type": "markdown",
   "metadata": {},
   "source": [
    "Decision theory analyses the two types of error that can be made in terms of a cost function, weighting one type of error (say, a criminal that is not sentenced) differently from the other type of error (say, an innocent civilian in sentenced), and a prior for the target hypothesis (the prior that someone is guilty before assessing the evidence).  Theses parameters are called $p_{\\rm tar}$, $C_{\\rm fa}$ and $C_{\\rm miss}$ in this package.  Their joint influence to decision making can be nicely summarized in the _prior log-odds_"
   ]
  },
  {
   "cell_type": "code",
   "execution_count": 14,
   "metadata": {
    "collapsed": false
   },
   "outputs": [
    {
     "data": {
      "text/plain": [
       "-2.292534757140544"
      ]
     },
     "execution_count": 14,
     "metadata": {},
     "output_type": "execute_result"
    }
   ],
   "source": [
    "## `actual costs' using a threshold of scores at -plo(d) (minus prior log odds)\n",
    "plo(d)"
   ]
  },
  {
   "cell_type": "markdown",
   "metadata": {},
   "source": [
    "If the scores are interpretable as _calibrated log-likelihood-ratios_, then the optimal threshold should be at `-plo(DCF)`, the value of the dcf can be computed as:"
   ]
  },
  {
   "cell_type": "code",
   "execution_count": 15,
   "metadata": {
    "collapsed": false
   },
   "outputs": [
    {
     "data": {
      "text/plain": [
       "0.07296770000000001"
      ]
     },
     "execution_count": 15,
     "metadata": {},
     "output_type": "execute_result"
    }
   ],
   "source": [
    "dcf(tar, non, d=d)"
   ]
  },
  {
   "cell_type": "markdown",
   "metadata": {},
   "source": [
    "If you know the decision cost function you want to work with and it doesn't change, you can set it default:"
   ]
  },
  {
   "cell_type": "code",
   "execution_count": 16,
   "metadata": {
    "collapsed": false
   },
   "outputs": [
    {
     "data": {
      "text/plain": [
       "Ptar = 0.01, Cfa = 1, Cmiss = 10\n",
       " prior log-odds = -2.292534757140544\n",
       " effective prior odds = 0.10101010101010102\n",
       " effective prior = 0.09174311926605504\n"
      ]
     },
     "execution_count": 16,
     "metadata": {},
     "output_type": "execute_result"
    }
   ],
   "source": [
    "setdcf(d=d)"
   ]
  },
  {
   "cell_type": "code",
   "execution_count": 17,
   "metadata": {
    "collapsed": false
   },
   "outputs": [
    {
     "data": {
      "text/plain": [
       "0.07296770000000001"
      ]
     },
     "execution_count": 17,
     "metadata": {},
     "output_type": "execute_result"
    }
   ],
   "source": [
    "dcf(tar, non)"
   ]
  },
  {
   "cell_type": "markdown",
   "metadata": {},
   "source": [
    "Perhaps your data requires a different threshold, because the scores have not been calibrated.  "
   ]
  },
  {
   "cell_type": "code",
   "execution_count": 18,
   "metadata": {
    "collapsed": false
   },
   "outputs": [
    {
     "data": {
      "text/plain": [
       "0.17237850000000002"
      ]
     },
     "execution_count": 18,
     "metadata": {},
     "output_type": "execute_result"
    }
   ],
   "source": [
    "dcf(tar, non, thres=0.)"
   ]
  },
  {
   "cell_type": "markdown",
   "metadata": {},
   "source": [
    "A lot |worse threshold for this data and cost function, `thres = -2.29` performs better (has lower dcf).  What is the minimal value of the dcf that can be obtained if we vary the threshold?"
   ]
  },
  {
   "cell_type": "code",
   "execution_count": 19,
   "metadata": {
    "collapsed": false
   },
   "outputs": [
    {
     "data": {
      "text/plain": [
       "0.07267070000000002"
      ]
     },
     "execution_count": 19,
     "metadata": {},
     "output_type": "execute_result"
    }
   ],
   "source": [
    "mindcf(tar, non, d=d)"
   ]
  },
  {
   "cell_type": "markdown",
   "metadata": {},
   "source": [
    "The _minimum_ dcf is the value of the decision cost function after choosing the threshold optimally, given the entire ROC is known.  In this case, the data were generated to be _well calibrated_, meaning that the difference between the actual dcf and the mininumum dcf is small. \n",
    "\n",
    "The `mindcf` is efficiently calculated by computing the ROC first, so if you have that lying around, you can use it in place of `tar, non` in most of the above functions:"
   ]
  },
  {
   "cell_type": "code",
   "execution_count": 20,
   "metadata": {
    "collapsed": false
   },
   "outputs": [
    {
     "data": {
      "text/plain": [
       "0.07267070000000002"
      ]
     },
     "execution_count": 20,
     "metadata": {},
     "output_type": "execute_result"
    }
   ],
   "source": [
    "mindcf(r)"
   ]
  },
  {
   "cell_type": "markdown",
   "metadata": {},
   "source": [
    "Please, note that it is also possible to specify multiple cost functions and store it as a DCF object.  For instance, if you want to scan the behaviour of the dcf when the prior varies:"
   ]
  },
  {
   "cell_type": "code",
   "execution_count": 21,
   "metadata": {
    "collapsed": false
   },
   "outputs": [
    {
     "data": {
      "text/plain": [
       "99-element Array{Float64,1}:\n",
       " 0.0094521\n",
       " 0.0179512\n",
       " 0.0258354\n",
       " 0.0334816\n",
       " 0.040765 \n",
       " 0.047378 \n",
       " 0.0538984\n",
       " 0.0601616\n",
       " 0.0657063\n",
       " 0.071186 \n",
       " 0.0766474\n",
       " 0.0817176\n",
       " 0.0867549\n",
       " ⋮        \n",
       " 0.0811104\n",
       " 0.0761012\n",
       " 0.07104  \n",
       " 0.0653437\n",
       " 0.0591944\n",
       " 0.0530451\n",
       " 0.0466558\n",
       " 0.0400465\n",
       " 0.0331368\n",
       " 0.0253526\n",
       " 0.0174282\n",
       " 0.0092141"
      ]
     },
     "execution_count": 21,
     "metadata": {},
     "output_type": "execute_result"
    }
   ],
   "source": [
    "d = DCF([0.01:0.01:0.99], 1, 1)\n",
    "mindcf(r, d=d)"
   ]
  },
  {
   "cell_type": "markdown",
   "metadata": {},
   "source": [
    "So from this analysis, it seems that at higher and lower priors, the dcf vanishes.  This is true, because at priors close to 0 or 1, the decision can rely more and more on the prior alone, and less on the classifier.  It therefore is interesting to look at what the _normalized_ dcf is.  This is the dcf computed for the classifier scores divided by the dcf based on the prior alone.  In this case, "
   ]
  },
  {
   "cell_type": "code",
   "execution_count": 22,
   "metadata": {
    "collapsed": false
   },
   "outputs": [
    {
     "data": {
      "text/plain": [
       "99-element Array{Float64,1}:\n",
       " 0.94521 \n",
       " 0.89756 \n",
       " 0.86118 \n",
       " 0.83704 \n",
       " 0.8153  \n",
       " 0.789633\n",
       " 0.769977\n",
       " 0.75202 \n",
       " 0.73007 \n",
       " 0.71186 \n",
       " 0.696795\n",
       " 0.68098 \n",
       " 0.667345\n",
       " ⋮       \n",
       " 0.67592 \n",
       " 0.691829\n",
       " 0.7104  \n",
       " 0.726041\n",
       " 0.73993 \n",
       " 0.757787\n",
       " 0.777597\n",
       " 0.80093 \n",
       " 0.82842 \n",
       " 0.845087\n",
       " 0.87141 \n",
       " 0.92141 "
      ]
     },
     "execution_count": 22,
     "metadata": {},
     "output_type": "execute_result"
    }
   ],
   "source": [
    "mindcf(r, d=d, norm=true)"
   ]
  },
  {
   "cell_type": "markdown",
   "metadata": {},
   "source": [
    "This shows that the _utility_ of the classifier (how much decision costs can be improved) lies in the region of (effective) priors closer to `0.5`.\n",
    "\n",
    "Instead of the somewhat complicated cost function, which depends on a combination of three parameters $p_{\\rm tar}$, $C_{\\rm fa}$ and $C_{\\rm miss}$, we can analyze the classifier's performance in terms of the critical parameter, the prior-log-odds $\\zeta$\n",
    "\n",
    "$$\\zeta = \\log\\bigl(\\dfrac{p_{\\rm tar}}{1-p_{\\rm tar}} \\dfrac{C_{\\rm miss}}{C_{\\rm fa}}\\bigr) $$\n",
    "   \n",
    "such a function is the Bayes Error Rate $E_B$\n",
    "\n",
    "$$E_B = p_{\\rm eff} \\ p_{\\rm miss} + (1-p_{\\rm eff}) \\ p_{\\rm fa}$$\n",
    "\n",
    "where $p_{\\rm eff}$ is the _effective_ prior (a cost-weighted prior, related to $\\zeta$), and $p_{\\rm fa}$ and $p_{\\rm miss}$ are the false alarm and miss rate computed by thresholding the scores `tar` and `non` at the optimal Bayes threshold $-\\zeta$. "
   ]
  },
  {
   "cell_type": "code",
   "execution_count": 23,
   "metadata": {
    "collapsed": false
   },
   "outputs": [
    {
     "data": {
      "text/plain": [
       "0.0671232797468661"
      ]
     },
     "execution_count": 23,
     "metadata": {},
     "output_type": "execute_result"
    }
   ],
   "source": [
    "ber(tar, non, -2.29)"
   ]
  },
  {
   "cell_type": "code",
   "execution_count": 24,
   "metadata": {
    "collapsed": false
   },
   "outputs": [
    {
     "data": {
      "image/png": "[encoded data removed]",
      "text/plain": [
       "FramedPlot(...)"
      ]
     },
     "execution_count": 24,
     "metadata": {},
     "output_type": "execute_result"
    }
   ],
   "source": [
    "## now scan the Bayes error rate (similar to the dcf above) for a range of prior log odds, and plot\n",
    "## This is known as the Applied Probability of Error plot\n",
    "ROCAnalysis.apeplot(r)"
   ]
  },
  {
   "cell_type": "markdown",
   "metadata": {},
   "source": [
    "The red curve corresponds to the _actual_ Bayes Error Rate, given the classifier's scores and the `plo` parameter, the green curve corresponds to the _minimum_ Bayes Error Rate.  This minimum Bayes Error is obtained, for each value of `plo` by shifting the scores until the Bayes Error Rate is minimum.  In this case, because scores were generated as log-likelihood ratios, this minimum is more-or-less equal to the actual `ber`.  The black dotted line is the `ber` of the trivial classifier, that bases the decision on the prior alone (i.e., always decides `true` if `lpo>0`, and `false` otherwise). \n",
    "\n",
    "You may appreciate this, by considering scrores that are just twice as big---when we plot the APE plot, the Bayes Error is higher than the minimum value---this is an example of _mis-calibratred_ log-likelihood-ratio scores. "
   ]
  },
  {
   "cell_type": "code",
   "execution_count": 25,
   "metadata": {
    "collapsed": false
   },
   "outputs": [
    {
     "data": {
      "image/png": "[encoded data removed]",
      "text/plain": [
       "FramedPlot(...)"
      ]
     },
     "execution_count": 25,
     "metadata": {},
     "output_type": "execute_result"
    }
   ],
   "source": [
    "r2 = roc(2tar, 2non)\n",
    "ROCAnalysis.apeplot(r2)"
   ]
  },
  {
   "cell_type": "markdown",
   "metadata": {},
   "source": [
    "For `abs(lpo)>2.5`, the classifier's log-likelihood-ratio scores are so much off, that Bayes decisions are taken that lead to a _higher_ error than the trivial classifier!\n",
    "\n",
    "This whole curve of calibration performance as a function of prior can be summarized as proportional to the integral under the red curve, a quantity known as the \"Cost of the log-likelihood-ratio\", `cllr`:"
   ]
  },
  {
   "cell_type": "code",
   "execution_count": 26,
   "metadata": {
    "collapsed": false
   },
   "outputs": [
    {
     "data": {
      "text/plain": [
       "0.6472072023593803"
      ]
     },
     "execution_count": 26,
     "metadata": {},
     "output_type": "execute_result"
    }
   ],
   "source": [
    "cllr(2tar, 2non)"
   ]
  },
  {
   "cell_type": "markdown",
   "metadata": {},
   "source": [
    "In a similar way, the area under the green curve can be computed, and this is a summary of the _discrimination_ performance of the classifier, in the same units (which happen to be \"bits\") as `cllr`:"
   ]
  },
  {
   "cell_type": "code",
   "execution_count": 27,
   "metadata": {
    "collapsed": false
   },
   "outputs": [
    {
     "data": {
      "text/plain": [
       "0.5183877131262078"
      ]
     },
     "execution_count": 27,
     "metadata": {},
     "output_type": "execute_result"
    }
   ],
   "source": [
    "mincllr(2tar, 2non)"
   ]
  },
  {
   "cell_type": "markdown",
   "metadata": {},
   "source": [
    "Another way of viewing the same calibration-over-effective-prior analysis, but that focuses on the utility of the classifier over the trivial classifier, is to show the normalized Bayes error rate:"
   ]
  },
  {
   "cell_type": "code",
   "execution_count": 28,
   "metadata": {
    "collapsed": false
   },
   "outputs": [
    {
     "data": {
      "image/png": "[encoded data removed]",
      "text/plain": [
       "FramedPlot(...)"
      ]
     },
     "execution_count": 28,
     "metadata": {},
     "output_type": "execute_result"
    }
   ],
   "source": [
    "ROCAnalysis.nbeplot(r)"
   ]
  },
  {
   "cell_type": "markdown",
   "metadata": {},
   "source": [
    "Again, green and red are minimum and actual normalized Bayes error rates.  The two dashed/dotted curves correspond to the contribution of the false positives and false negatives tot the total normalized error rate.  The `plo` score is chosen asymmetric, because there often are many more non-target trials than target trials, and hence the accuracy of the metric is better.  \n",
    "\n",
    "Finally, a last graph in this workbook, a plot that show the relation between the actual scores and the optimally calibrated scores (corresponding to the minimum-curves in `nbe` and `ber`).  For well-calibrated log-likelihood-ratio scores this should be a straight line of unit slope.  Let's see what happens for our over-confident llr scores:\n"
   ]
  },
  {
   "cell_type": "code",
   "execution_count": 29,
   "metadata": {
    "collapsed": false
   },
   "outputs": [
    {
     "data": {
      "image/png": "[encoded data removed]",
      "text/plain": [
       "FramedPlot(...)"
      ]
     },
     "execution_count": 29,
     "metadata": {},
     "output_type": "execute_result"
    }
   ],
   "source": [
    "ROCAnalysis.llrplot(r2)"
   ]
  },
  {
   "cell_type": "markdown",
   "metadata": {},
   "source": [
    "Mmm.  There still is some work to be done in scaling the graphs.  More to come. "
   ]
  },
  {
   "cell_type": "code",
   "execution_count": null,
   "metadata": {
    "collapsed": true
   },
   "outputs": [],
   "source": []
  }
 ],
 "metadata": {
  "kernelspec": {
   "display_name": "Julia 0.3.12-pre",
   "language": "julia",
   "name": "julia-0.3"
  },
  "language_info": {
   "file_extension": ".jl",
   "mimetype": "application/julia",
   "name": "julia",
   "version": "0.3.12"
  }
 },
 "nbformat": 4,
 "nbformat_minor": 0
}
