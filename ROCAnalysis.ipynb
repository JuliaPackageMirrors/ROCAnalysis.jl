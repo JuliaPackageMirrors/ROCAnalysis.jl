{
 "cells": [
  {
   "cell_type": "code",
   "execution_count": 1,
   "metadata": {
    "collapsed": false
   },
   "outputs": [
    {
     "data": {
      "text/plain": [
       "ROCAnalysis"
      ]
     },
     "execution_count": 1,
     "metadata": {},
     "output_type": "execute_result"
    }
   ],
   "source": [
    "# include(\"src/ROCAnalysis.jl\")"
   ]
  },
  {
   "cell_type": "code",
   "execution_count": 1,
   "metadata": {
    "collapsed": false
   },
   "outputs": [],
   "source": [
    "using ROCAnalysis"
   ]
  },
  {
   "cell_type": "markdown",
   "metadata": {},
   "source": [
    "This package analyses the results of a probabilistic binary classifier.  We'll assume that the classifier generates scores that tend to be higher towards the \"target\" class, and lower towards the \"non-target\" class.  \n",
    "\n",
    "In this notebook we will simulate the scores, by generating them from two separate distributions.  We'll do this in a way that the scores can be considered _well-calibrated log-likelihood-ratio_ scores, i.e., the scores are supposed to be probabilistically interpretable as llr $\\ell$\n",
    "\n",
    "$$\\ell = \\log \\dfrac{P({\\rm data} \\mid {\\rm target})}{P({\\rm data} \\mid {\\rm nontarget})}$$"
   ]
  },
  {
   "cell_type": "code",
   "execution_count": 2,
   "metadata": {
    "collapsed": false
   },
   "outputs": [
    {
     "data": {
      "text/plain": [
       "100000-element Array{Float64,1}:\n",
       " -3.65865 \n",
       "  0.111599\n",
       "  0.378915\n",
       " -4.8397  \n",
       " -3.57974 \n",
       " -3.60667 \n",
       " -2.83765 \n",
       " -3.09525 \n",
       " -0.88947 \n",
       " -0.538918\n",
       " -0.847828\n",
       " -1.00992 \n",
       " -3.0787  \n",
       "  ⋮       \n",
       " -1.33932 \n",
       " -2.02718 \n",
       " -5.81056 \n",
       " -0.525173\n",
       " -5.38597 \n",
       " -4.12203 \n",
       " -3.7793  \n",
       " -0.844421\n",
       " -1.87812 \n",
       " -0.223619\n",
       " -2.43359 \n",
       " -0.560365"
      ]
     },
     "execution_count": 2,
     "metadata": {},
     "output_type": "execute_result"
    }
   ],
   "source": [
    "## Produce some well-calibrated log-likelihood-ratio scores for target and non-target class:\n",
    "tar =  2 + 2randn(1000)\n",
    "non = -2 + 2randn(100000)"
   ]
  },
  {
   "cell_type": "markdown",
   "metadata": {},
   "source": [
    "These scores are well-calibrated, because their distribution follows the defining property\n",
    "\n",
    "$$\\ell = \\log \\dfrac{P(\\ell \\mid {\\rm target})}{P(\\ell \\mid {\\rm nontarget})}$$"
   ]
  },
  {
   "cell_type": "code",
   "execution_count": 3,
   "metadata": {
    "collapsed": false
   },
   "outputs": [
    {
     "data": {
      "text/plain": [
       "0.15815000000176976"
      ]
     },
     "execution_count": 3,
     "metadata": {},
     "output_type": "execute_result"
    }
   ],
   "source": [
    "## quick estimate of equal error rate, should be close to pnorm(-1) = 0.5 + 0.5erf(-1/√2)\n",
    "eer(tar, non) "
   ]
  },
  {
   "cell_type": "markdown",
   "metadata": {},
   "source": [
    "The equal error rate is an important one-valued summary of the ROC curve (see below for a plot).  It is the point at which falso positive and false negative rates are the same. "
   ]
  },
  {
   "cell_type": "code",
   "execution_count": 4,
   "metadata": {
    "collapsed": false
   },
   "outputs": [
    {
     "data": {
      "text/plain": [
       "0.15865525393145707"
      ]
     },
     "execution_count": 4,
     "metadata": {},
     "output_type": "execute_result"
    }
   ],
   "source": [
    "pnorm(-1)"
   ]
  },
  {
   "cell_type": "markdown",
   "metadata": {},
   "source": [
    "For the score generated above from a Gaussian distribution, we can derive the theoretical EER quite easily.  It is related to the quantile function of the normal distribution.  "
   ]
  },
  {
   "cell_type": "code",
   "execution_count": 5,
   "metadata": {
    "collapsed": false
   },
   "outputs": [
    {
     "data": {
      "text/plain": [
       "ROCAnalysis.Roc{Float64}([1.0,0.964,0.964,0.8508,0.8508,0.73922,0.73922,0.69712,0.69712,0.68447  …  5.0e-5,5.0e-5,3.0e-5,3.0e-5,2.0e-5,2.0e-5,1.0e-5,1.0e-5,0.0,0.0],[0.0,0.0,0.001,0.001,0.002,0.002,0.003,0.003,0.004,0.004  …  0.982,0.984,0.984,0.985,0.985,0.987,0.987,0.995,0.995,1.0],Bool[true,true,false,true,false,true,false,true,false,false  …  false,false,false,false,false,false,true,false,true,true],[-10.7113,-5.57892,-5.57876,-4.07145,-4.07142,-3.28102,-3.28091,-3.02784,-3.0277,-2.95507  …  6.01045,6.05454,6.13288,6.15789,6.18196,6.21583,6.42813,6.45797,6.98265,7.13642],[-Inf,-4.72916,-4.72916,-4.71474,-4.71474,-3.74005,-3.74005,-2.8739,-2.8739,-2.8739  …  5.54344,5.54344,5.54344,5.54344,5.54344,5.54344,5.54344,6.68461,6.68461,Inf])"
      ]
     },
     "execution_count": 5,
     "metadata": {},
     "output_type": "execute_result"
    }
   ],
   "source": [
    "## compute full ROC statistics\n",
    "r = roc(tar, non)"
   ]
  },
  {
   "cell_type": "markdown",
   "metadata": {},
   "source": [
    "Admittedly not pretty printed---but we can call in the help from `DataFrames` to undestand the data structure of a `Roc` object\n",
    "\n",
    " - `pfa` the false alarm rate\n",
    " - `pmiss` the miss rate\n",
    " - `thres` the thereshold, separating this line's `pfa` and `pmiss` from the next\n",
    " - `chull` indicating if this point is on the convex hull of the ROC curve\n",
    " - `llr` the optimal log-likelihood-ratio score for all data points contributing to the ROC line segment from this line to the next\n",
    "\n",
    "The last entry, `llr`, corresponds to the negative slope of the ROC convex hull, and has a direct relation to the \"minimum\" versions of the various metrics below. "
   ]
  },
  {
   "cell_type": "code",
   "execution_count": 6,
   "metadata": {
    "collapsed": false
   },
   "outputs": [
    {
     "data": {
      "text/html": [
       "<table class=\"data-frame\"><tr><th></th><th>pfa</th><th>pmiss</th><th>thres</th><th>chull</th><th>llr</th></tr><tr><th>1</th><td>1.0</td><td>0.0</td><td>-10.711334863947837</td><td>true</td><td>-Inf</td></tr><tr><th>2</th><td>0.964</td><td>0.0</td><td>-5.578924344835429</td><td>true</td><td>-4.729156165769083</td></tr><tr><th>3</th><td>0.964</td><td>0.001</td><td>-5.578760545269962</td><td>false</td><td>-4.729156165769083</td></tr><tr><th>4</th><td>0.8508</td><td>0.001</td><td>-4.071446506828367</td><td>true</td><td>-4.714741822417382</td></tr><tr><th>5</th><td>0.8508</td><td>0.002</td><td>-4.071422418269238</td><td>false</td><td>-4.714741822417382</td></tr><tr><th>6</th><td>0.73922</td><td>0.002</td><td>-3.281023040359016</td><td>true</td><td>-3.740047740688336</td></tr><tr><th>7</th><td>0.73922</td><td>0.003</td><td>-3.280912541319257</td><td>false</td><td>-3.740047740688336</td></tr><tr><th>8</th><td>0.69712</td><td>0.003</td><td>-3.027839712052299</td><td>true</td><td>-2.8739035651888574</td></tr><tr><th>9</th><td>0.69712</td><td>0.004</td><td>-3.02769928579535</td><td>false</td><td>-2.8739035651888574</td></tr><tr><th>10</th><td>0.68447</td><td>0.004</td><td>-2.9550692339638793</td><td>false</td><td>-2.8739035651888574</td></tr><tr><th>11</th><td>0.68447</td><td>0.005</td><td>-2.955049365503252</td><td>false</td><td>-2.8739035651888574</td></tr><tr><th>12</th><td>0.68373</td><td>0.005</td><td>-2.9507927393062925</td><td>false</td><td>-2.8739035651888574</td></tr><tr><th>13</th><td>0.68373</td><td>0.006</td><td>-2.950743887080411</td><td>false</td><td>-2.8739035651888574</td></tr><tr><th>14</th><td>0.68028</td><td>0.006</td><td>-2.931498602177074</td><td>false</td><td>-2.8739035651888574</td></tr><tr><th>15</th><td>0.68028</td><td>0.007</td><td>-2.931435660028978</td><td>false</td><td>-2.8739035651888574</td></tr><tr><th>16</th><td>0.6506799999999999</td><td>0.007</td><td>-2.7734494606815216</td><td>false</td><td>-2.8739035651888574</td></tr><tr><th>17</th><td>0.6506799999999999</td><td>0.008</td><td>-2.7732652640462256</td><td>false</td><td>-2.8739035651888574</td></tr><tr><th>18</th><td>0.60859</td><td>0.008</td><td>-2.553231097149636</td><td>true</td><td>-2.7444892712936144</td></tr><tr><th>19</th><td>0.60859</td><td>0.009</td><td>-2.5532203058185923</td><td>false</td><td>-2.7444892712936144</td></tr><tr><th>20</th><td>0.60563</td><td>0.009</td><td>-2.536933187354933</td><td>false</td><td>-2.7444892712936144</td></tr><tr><th>21</th><td>0.60563</td><td>0.01</td><td>-2.5369279619767133</td><td>false</td><td>-2.7444892712936144</td></tr><tr><th>22</th><td>0.59363</td><td>0.01</td><td>-2.47744186076765</td><td>false</td><td>-2.7444892712936144</td></tr><tr><th>23</th><td>0.59363</td><td>0.011</td><td>-2.477420592967947</td><td>false</td><td>-2.7444892712936144</td></tr><tr><th>24</th><td>0.56192</td><td>0.011</td><td>-2.3135827276046363</td><td>true</td><td>-2.622492312740559</td></tr><tr><th>25</th><td>0.56192</td><td>0.012</td><td>-2.3135798730768524</td><td>false</td><td>-2.622492312740559</td></tr><tr><th>26</th><td>0.54815</td><td>0.012</td><td>-2.2411423612327432</td><td>true</td><td>-1.6477384699325126</td></tr><tr><th>27</th><td>0.54815</td><td>0.013</td><td>-2.241121938275877</td><td>false</td><td>-1.6477384699325126</td></tr><tr><th>28</th><td>0.5473399999999999</td><td>0.013</td><td>-2.2373328971133386</td><td>false</td><td>-1.6477384699325126</td></tr><tr><th>29</th><td>0.5473399999999999</td><td>0.014</td><td>-2.2372946667468003</td><td>false</td><td>-1.6477384699325126</td></tr><tr><th>30</th><td>0.54616</td><td>0.014</td><td>-2.23085370683574</td><td>false</td><td>-1.6477384699325126</td></tr><tr><th>&vellip;</th><td>&vellip;</td><td>&vellip;</td><td>&vellip;</td><td>&vellip;</td><td>&vellip;</td></tr></table>"
      ],
      "text/plain": [
       "1687x5 DataFrames.DataFrame\n",
       "│ Row  │ pfa     │ pmiss │ thres    │ chull │ llr      │\n",
       "┝━━━━━━┿━━━━━━━━━┿━━━━━━━┿━━━━━━━━━━┿━━━━━━━┿━━━━━━━━━━┥\n",
       "│ 1    │ 1.0     │ 0.0   │ -10.7113 │ true  │ -Inf     │\n",
       "│ 2    │ 0.964   │ 0.0   │ -5.57892 │ true  │ -4.72916 │\n",
       "│ 3    │ 0.964   │ 0.001 │ -5.57876 │ false │ -4.72916 │\n",
       "│ 4    │ 0.8508  │ 0.001 │ -4.07145 │ true  │ -4.71474 │\n",
       "│ 5    │ 0.8508  │ 0.002 │ -4.07142 │ false │ -4.71474 │\n",
       "│ 6    │ 0.73922 │ 0.002 │ -3.28102 │ true  │ -3.74005 │\n",
       "│ 7    │ 0.73922 │ 0.003 │ -3.28091 │ false │ -3.74005 │\n",
       "│ 8    │ 0.69712 │ 0.003 │ -3.02784 │ true  │ -2.8739  │\n",
       "│ 9    │ 0.69712 │ 0.004 │ -3.0277  │ false │ -2.8739  │\n",
       "│ 10   │ 0.68447 │ 0.004 │ -2.95507 │ false │ -2.8739  │\n",
       "│ 11   │ 0.68447 │ 0.005 │ -2.95505 │ false │ -2.8739  │\n",
       "⋮\n",
       "│ 1676 │ 7.0e-5  │ 0.978 │ 5.91568  │ false │ 5.54344  │\n",
       "│ 1677 │ 7.0e-5  │ 0.982 │ 6.01045  │ false │ 5.54344  │\n",
       "│ 1678 │ 5.0e-5  │ 0.982 │ 6.05454  │ false │ 5.54344  │\n",
       "│ 1679 │ 5.0e-5  │ 0.984 │ 6.13288  │ false │ 5.54344  │\n",
       "│ 1680 │ 3.0e-5  │ 0.984 │ 6.15789  │ false │ 5.54344  │\n",
       "│ 1681 │ 3.0e-5  │ 0.985 │ 6.18196  │ false │ 5.54344  │\n",
       "│ 1682 │ 2.0e-5  │ 0.985 │ 6.21583  │ false │ 5.54344  │\n",
       "│ 1683 │ 2.0e-5  │ 0.987 │ 6.42813  │ false │ 5.54344  │\n",
       "│ 1684 │ 1.0e-5  │ 0.987 │ 6.45797  │ true  │ 6.68461  │\n",
       "│ 1685 │ 1.0e-5  │ 0.995 │ 6.98265  │ false │ 6.68461  │\n",
       "│ 1686 │ 0.0     │ 0.995 │ 7.13642  │ true  │ Inf      │\n",
       "│ 1687 │ 0.0     │ 1.0   │ NA       │ true  │ NA       │"
      ]
     },
     "execution_count": 6,
     "metadata": {},
     "output_type": "execute_result"
    }
   ],
   "source": [
    "using DataFrames\n",
    "DataFrame(r)"
   ]
  },
  {
   "cell_type": "code",
   "execution_count": 7,
   "metadata": {
    "collapsed": false
   },
   "outputs": [
    {
     "data": {
      "text/plain": [
       "0.15763626251390433"
      ]
     },
     "execution_count": 7,
     "metadata": {},
     "output_type": "execute_result"
    }
   ],
   "source": [
    "## accurate computation of the equal error rate, using the convex hull\n",
    "eerch(r)"
   ]
  },
  {
   "cell_type": "code",
   "execution_count": 9,
   "metadata": {
    "collapsed": false
   },
   "outputs": [
    {
     "data": {
      "image/png": "[encoded data removed]",
      "text/plain": [
       "Winston.FramedPlot(...)"
      ]
     },
     "execution_count": 9,
     "metadata": {},
     "output_type": "execute_result"
    }
   ],
   "source": [
    "using Winston ## or perhaps another plotting package \n",
    "plot(r)"
   ]
  },
  {
   "cell_type": "markdown",
   "metadata": {},
   "source": [
    "The axes of a ROC plot are named \"Probability of False Alarm\" (false positive rate) and \"Probability of Miss\" (false negative rate).  There are many names for these (see the `README.md`).  A note aoutb this way of plotting:\n",
    " \n",
    " - The verical axis (like the horizontal) is an _error_ rate, and not its complement, the _hit_ rate.  This means that a \"good\" ROC curve here goes towards the lower left corner, and not the upper left corner.  In literature one traditionally comes across the true positive rate vs. false positive rate, which is an \"upper-left\" style of ROC. "
   ]
  },
  {
   "cell_type": "code",
   "execution_count": 10,
   "metadata": {
    "collapsed": false
   },
   "outputs": [
    {
     "data": {
      "image/png": "[encoded data removed]",
      "text/plain": [
       "Winston.FramedPlot(...)"
      ]
     },
     "execution_count": 10,
     "metadata": {},
     "output_type": "execute_result"
    }
   ],
   "source": [
    "## The \"Detection Error Tradeoff\" plot, this should give a more/less straight line\n",
    "detplot(r)"
   ]
  },
  {
   "cell_type": "markdown",
   "metadata": {},
   "source": [
    "A Detection Error Trade-off plot (DET plot) shows _the same_ information as the ROC plot above---but the scales are warped according to the inverse of the cumulative normal distribution.  This way of plotting has many advantages:\n",
    "\n",
    "- If the distributions of target and non-target scores are both Normal, then the DET-curve is a straight line.  In practice, many detection problems give rise to more-or-less straight DET curves, and this suggests that there exists a strictly increasing warping function that can make the score distributions (more) Normal. \n",
    "\n",
    "- Towards better performance (lower error rates), the resolution of the graph is higher.  This makes it more easy to have multiple systems / performance characteristics over a smaller or wider range of performance in the same graph, and still be able to tell these apart.\n",
    "\n",
    "- Conventionally, the ranges of the axes are chosen 0.1%--50%---and the plot area should _really_ be square.  This makes it possible to immediately assess the overall performance based on the absolute position of the line in the graph if you have seen more DET plots in your life.\n",
    "\n",
    "- The slope of the (straight) line corresponds to the ratio of the `σ` parameters of the underlying Normal score distributions, namely that of the non-target scores divided by that of the target scores.  Often, highly discriminative classifiers show very _flat_ curves, indicating that that target scores have a much larger variance than the non-target scores.  \n",
    "\n",
    "- The origin of this type of plot lies in psychophysics, where graph paper with lines according to this warping was referred to as _double probability paper_.  The diagonal $y=x$ in a DET plot corresponds linearly to a quantity known as $d'$ (d-prime) from psychophysics, ranging from 0 at 50% error to about 6 at 0.1% error. "
   ]
  },
  {
   "cell_type": "code",
   "execution_count": 11,
   "metadata": {
    "collapsed": false
   },
   "outputs": [
    {
     "data": {
      "text/plain": [
       "0.08052228999999997"
      ]
     },
     "execution_count": 11,
     "metadata": {},
     "output_type": "execute_result"
    }
   ],
   "source": [
    "## compute the Area Under the ROC, should be close to 0.078\n",
    "auc(r)"
   ]
  },
  {
   "cell_type": "markdown",
   "metadata": {},
   "source": [
    "Please note, that traditionally the AUC is the complement of this.  However, in this package all metrics are \"error\" and \"cost\" like, so low numbers always indicate better performance.  As a courtesy to all other research fields that work with two-class detectos, we have the convenience function `AUC()`, which---like `auc()`---allows for partial integration up to a certain value of `pfa` or `pmiss`. "
   ]
  },
  {
   "cell_type": "code",
   "execution_count": 12,
   "metadata": {
    "collapsed": false
   },
   "outputs": [
    {
     "name": "stdout",
     "output_type": "stream",
     "text": [
      "0.91947771\n",
      "0.058844110000000005\n",
      "0.7833900526315789\n"
     ]
    }
   ],
   "source": [
    "println(AUC(r))\n",
    "println(AUC(r, pfa=0.1, normalize=false)) ## Traditional AUC integrating pfa from 0 to 0.1\n",
    "println(AUC(r, pfa=0.1)) ## normalize partial AUC to range 0.5 (no discrimiation) to 1.0 (perfect discrimination)"
   ]
  },
  {
   "cell_type": "code",
   "execution_count": 13,
   "metadata": {
    "collapsed": false
   },
   "outputs": [
    {
     "data": {
      "text/plain": [
       "Ptar = 0.01, Cfa = 1, Cmiss = 10\n",
       " prior log-odds = -2.292534757140544\n",
       " effective prior odds = 0.10101010101010102\n",
       " effective prior = 0.09174311926605504\n"
      ]
     },
     "execution_count": 13,
     "metadata": {},
     "output_type": "execute_result"
    }
   ],
   "source": [
    "## define a decision cost function by its parameter p_tar=0.01, Cfa=1, Cmiss=10 (NIST SRE 2008 setting)\n",
    "d = DCF(0.01, 1, 10)"
   ]
  },
  {
   "cell_type": "markdown",
   "metadata": {},
   "source": [
    "Decision theory analyses the two types of error that can be made in terms of a cost function, weighting one type of error (say, a criminal that is not sentenced) differently from the other type of error (say, an innocent civilian in sentenced), and a prior for the target hypothesis (the prior that someone is guilty before assessing the evidence).  Theses parameters are called $p_{\\rm tar}$, $C_{\\rm fa}$ and $C_{\\rm miss}$ in this package.  Their joint influence to decision making can be nicely summarized in the _prior log-odds_"
   ]
  },
  {
   "cell_type": "code",
   "execution_count": 14,
   "metadata": {
    "collapsed": false
   },
   "outputs": [
    {
     "data": {
      "text/plain": [
       "-2.292534757140544"
      ]
     },
     "execution_count": 14,
     "metadata": {},
     "output_type": "execute_result"
    }
   ],
   "source": [
    "## `actual costs' using a threshold of scores at -plo(d) (minus prior log odds)\n",
    "plo(d)"
   ]
  },
  {
   "cell_type": "markdown",
   "metadata": {},
   "source": [
    "If the scores are interpretable as _calibrated log-likelihood-ratios_, then the optimal threshold should be at `-plo(DCF)`, the value of the dcf can be computed as:"
   ]
  },
  {
   "cell_type": "code",
   "execution_count": 15,
   "metadata": {
    "collapsed": false
   },
   "outputs": [
    {
     "data": {
      "text/plain": [
       "0.07233010000000001"
      ]
     },
     "execution_count": 15,
     "metadata": {},
     "output_type": "execute_result"
    }
   ],
   "source": [
    "dcf(tar, non, d=d)"
   ]
  },
  {
   "cell_type": "markdown",
   "metadata": {},
   "source": [
    "If you know the decision cost function you want to work with and it doesn't change, you can set it default:"
   ]
  },
  {
   "cell_type": "code",
   "execution_count": 16,
   "metadata": {
    "collapsed": false
   },
   "outputs": [
    {
     "data": {
      "text/plain": [
       "Ptar = 0.01, Cfa = 1, Cmiss = 10\n",
       " prior log-odds = -2.292534757140544\n",
       " effective prior odds = 0.10101010101010102\n",
       " effective prior = 0.09174311926605504\n"
      ]
     },
     "execution_count": 16,
     "metadata": {},
     "output_type": "execute_result"
    }
   ],
   "source": [
    "setdcf(d=d)"
   ]
  },
  {
   "cell_type": "code",
   "execution_count": 17,
   "metadata": {
    "collapsed": false
   },
   "outputs": [
    {
     "data": {
      "text/plain": [
       "0.07233010000000001"
      ]
     },
     "execution_count": 17,
     "metadata": {},
     "output_type": "execute_result"
    }
   ],
   "source": [
    "dcf(tar, non)"
   ]
  },
  {
   "cell_type": "markdown",
   "metadata": {},
   "source": [
    "Perhaps your data requires a different threshold, because the scores have not been calibrated.  "
   ]
  },
  {
   "cell_type": "code",
   "execution_count": 18,
   "metadata": {
    "collapsed": false
   },
   "outputs": [
    {
     "data": {
      "text/plain": [
       "0.1732981"
      ]
     },
     "execution_count": 18,
     "metadata": {},
     "output_type": "execute_result"
    }
   ],
   "source": [
    "dcf(tar, non, thres=0.)"
   ]
  },
  {
   "cell_type": "markdown",
   "metadata": {},
   "source": [
    "A lot |worse threshold for this data and cost function, `thres = -2.29` performs better (has lower dcf).  What is the minimal value of the dcf that can be obtained if we vary the threshold?"
   ]
  },
  {
   "cell_type": "code",
   "execution_count": 19,
   "metadata": {
    "collapsed": false
   },
   "outputs": [
    {
     "data": {
      "text/plain": [
       "0.07157410000000002"
      ]
     },
     "execution_count": 19,
     "metadata": {},
     "output_type": "execute_result"
    }
   ],
   "source": [
    "mindcf(tar, non, d=d)"
   ]
  },
  {
   "cell_type": "markdown",
   "metadata": {},
   "source": [
    "The _minimum_ dcf is the value of the decision cost function after choosing the threshold optimally, given the entire ROC is known.  In this case, the data were generated to be _well calibrated_, meaning that the difference between the actual dcf and the mininumum dcf is small. \n",
    "\n",
    "The `mindcf` is efficiently calculated by computing the ROC first, so if you have that lying around, you can use it in place of `tar, non` in most of the above functions:"
   ]
  },
  {
   "cell_type": "code",
   "execution_count": 20,
   "metadata": {
    "collapsed": false
   },
   "outputs": [
    {
     "data": {
      "text/plain": [
       "0.07157410000000002"
      ]
     },
     "execution_count": 20,
     "metadata": {},
     "output_type": "execute_result"
    }
   ],
   "source": [
    "mindcf(r)"
   ]
  },
  {
   "cell_type": "markdown",
   "metadata": {},
   "source": [
    "Please, note that it is also possible to specify multiple cost functions and store it as a DCF object.  For instance, if you want to scan the behaviour of the dcf when the prior varies:"
   ]
  },
  {
   "cell_type": "code",
   "execution_count": 21,
   "metadata": {
    "collapsed": false
   },
   "outputs": [
    {
     "data": {
      "text/plain": [
       "99-element Array{Float64,1}:\n",
       " 0.009493 \n",
       " 0.018154 \n",
       " 0.0262308\n",
       " 0.03364  \n",
       " 0.040773 \n",
       " 0.0469394\n",
       " 0.0528443\n",
       " 0.0587428\n",
       " 0.0646369\n",
       " 0.070531 \n",
       " 0.0758965\n",
       " 0.080628 \n",
       " 0.0853595\n",
       " ⋮        \n",
       " 0.076338 \n",
       " 0.0709765\n",
       " 0.065615 \n",
       " 0.0602535\n",
       " 0.054892 \n",
       " 0.0495305\n",
       " 0.0440354\n",
       " 0.037706 \n",
       " 0.0307648\n",
       " 0.0238236\n",
       " 0.0167444\n",
       " 0.0093722"
      ]
     },
     "execution_count": 21,
     "metadata": {},
     "output_type": "execute_result"
    }
   ],
   "source": [
    "d = DCF(collect(0.01:0.01:0.99), 1, 1)\n",
    "mindcf(r, d=d)"
   ]
  },
  {
   "cell_type": "markdown",
   "metadata": {},
   "source": [
    "So from this analysis, it seems that at higher and lower priors, the dcf vanishes.  This is true, because at priors close to 0 or 1, the decision can rely more and more on the prior alone, and less on the classifier.  It therefore is interesting to look at what the _normalized_ dcf is.  This is the dcf computed for the classifier scores divided by the dcf based on the prior alone.  In this case, "
   ]
  },
  {
   "cell_type": "code",
   "execution_count": 22,
   "metadata": {
    "collapsed": false
   },
   "outputs": [
    {
     "data": {
      "text/plain": [
       "99-element Array{Float64,1}:\n",
       " 0.9493  \n",
       " 0.9077  \n",
       " 0.87436 \n",
       " 0.841   \n",
       " 0.81546 \n",
       " 0.782323\n",
       " 0.754919\n",
       " 0.734285\n",
       " 0.718188\n",
       " 0.70531 \n",
       " 0.689968\n",
       " 0.6719  \n",
       " 0.656612\n",
       " ⋮       \n",
       " 0.63615 \n",
       " 0.645241\n",
       " 0.65615 \n",
       " 0.669483\n",
       " 0.68615 \n",
       " 0.707579\n",
       " 0.733923\n",
       " 0.75412 \n",
       " 0.76912 \n",
       " 0.79412 \n",
       " 0.83722 \n",
       " 0.93722 "
      ]
     },
     "execution_count": 22,
     "metadata": {},
     "output_type": "execute_result"
    }
   ],
   "source": [
    "mindcf(r, d=d, norm=true)"
   ]
  },
  {
   "cell_type": "markdown",
   "metadata": {},
   "source": [
    "This shows that the _utility_ of the classifier (how much decision costs can be improved) lies in the region of (effective) priors closer to `0.5`.\n",
    "\n",
    "Instead of the somewhat complicated cost function, which depends on a combination of three parameters $p_{\\rm tar}$, $C_{\\rm fa}$ and $C_{\\rm miss}$, we can analyze the classifier's performance in terms of the critical parameter, the prior-log-odds $\\zeta$\n",
    "\n",
    "$$\\zeta = \\log\\bigl(\\dfrac{p_{\\rm tar}}{1-p_{\\rm tar}} \\dfrac{C_{\\rm miss}}{C_{\\rm fa}}\\bigr) $$\n",
    "   \n",
    "such a function is the Bayes Error Rate $E_B$\n",
    "\n",
    "$$E_B = p_{\\rm eff} \\ p_{\\rm miss} + (1-p_{\\rm eff}) \\ p_{\\rm fa}$$\n",
    "\n",
    "where $p_{\\rm eff}$ is the _effective_ prior (a cost-weighted prior, related to $\\zeta$), and $p_{\\rm fa}$ and $p_{\\rm miss}$ are the false alarm and miss rate computed by thresholding the scores `tar` and `non` at the optimal Bayes threshold $-\\zeta$. "
   ]
  },
  {
   "cell_type": "code",
   "execution_count": 23,
   "metadata": {
    "collapsed": false
   },
   "outputs": [
    {
     "data": {
      "text/plain": [
       "0.06651028927562345"
      ]
     },
     "execution_count": 23,
     "metadata": {},
     "output_type": "execute_result"
    }
   ],
   "source": [
    "ber(tar, non, -2.29)"
   ]
  },
  {
   "cell_type": "code",
   "execution_count": 24,
   "metadata": {
    "collapsed": false
   },
   "outputs": [
    {
     "data": {
      "image/png": "[encoded data removed]",
      "text/plain": [
       "Winston.FramedPlot(...)"
      ]
     },
     "execution_count": 24,
     "metadata": {},
     "output_type": "execute_result"
    }
   ],
   "source": [
    "## now scan the Bayes error rate (similar to the dcf above) for a range of prior log odds, and plot\n",
    "## This is known as the Applied Probability of Error plot\n",
    "apeplot(r)"
   ]
  },
  {
   "cell_type": "markdown",
   "metadata": {},
   "source": [
    "The red curve corresponds to the _actual_ Bayes Error Rate, given the classifier's scores and the `plo` parameter, the green curve corresponds to the _minimum_ Bayes Error Rate.  This minimum Bayes Error is obtained, for each value of `plo` by shifting the scores until the Bayes Error Rate is minimum.  In this case, because scores were generated as log-likelihood ratios, this minimum is more-or-less equal to the actual `ber`.  The black dotted line is the `ber` of the trivial classifier, that bases the decision on the prior alone (i.e., always decides `true` if `lpo>0`, and `false` otherwise). \n",
    "\n",
    "You may appreciate this, by considering scrores that are just twice as big---when we plot the APE plot, the Bayes Error is higher than the minimum value---this is an example of _mis-calibratred_ log-likelihood-ratio scores. "
   ]
  },
  {
   "cell_type": "code",
   "execution_count": 25,
   "metadata": {
    "collapsed": false
   },
   "outputs": [
    {
     "data": {
      "image/png": "[encoded data removed]",
      "text/plain": [
       "Winston.FramedPlot(...)"
      ]
     },
     "execution_count": 25,
     "metadata": {},
     "output_type": "execute_result"
    }
   ],
   "source": [
    "r2 = roc(2tar, 2non)\n",
    "apeplot(r2)"
   ]
  },
  {
   "cell_type": "markdown",
   "metadata": {},
   "source": [
    "For `abs(lpo)>2.5`, the classifier's log-likelihood-ratio scores are so much off, that Bayes decisions are taken that lead to a _higher_ error than the trivial classifier!\n",
    "\n",
    "This whole curve of calibration performance as a function of prior can be summarized as proportional to the integral under the red curve, a quantity known as the \"Cost of the log-likelihood-ratio\", `cllr`:"
   ]
  },
  {
   "cell_type": "code",
   "execution_count": 26,
   "metadata": {
    "collapsed": false
   },
   "outputs": [
    {
     "data": {
      "text/plain": [
       "0.6340853728577864"
      ]
     },
     "execution_count": 26,
     "metadata": {},
     "output_type": "execute_result"
    }
   ],
   "source": [
    "cllr(2tar, 2non)"
   ]
  },
  {
   "cell_type": "markdown",
   "metadata": {},
   "source": [
    "In a similar way, the area under the green curve can be computed, and this is a summary of the _discrimination_ performance of the classifier, in the same units (which happen to be \"bits\") as `cllr`:"
   ]
  },
  {
   "cell_type": "code",
   "execution_count": 27,
   "metadata": {
    "collapsed": false
   },
   "outputs": [
    {
     "data": {
      "text/plain": [
       "0.5103042431991219"
      ]
     },
     "execution_count": 27,
     "metadata": {},
     "output_type": "execute_result"
    }
   ],
   "source": [
    "mincllr(2tar, 2non)"
   ]
  },
  {
   "cell_type": "markdown",
   "metadata": {},
   "source": [
    "Another way of viewing the same calibration-over-effective-prior analysis, but that focuses on the utility of the classifier over the trivial classifier, is to show the normalized Bayes error rate:"
   ]
  },
  {
   "cell_type": "code",
   "execution_count": 28,
   "metadata": {
    "collapsed": false
   },
   "outputs": [
    {
     "data": {
      "image/png": "[encoded data removed]",
      "text/plain": [
       "Winston.FramedPlot(...)"
      ]
     },
     "execution_count": 28,
     "metadata": {},
     "output_type": "execute_result"
    }
   ],
   "source": [
    "nbeplot(r)"
   ]
  },
  {
   "cell_type": "markdown",
   "metadata": {},
   "source": [
    "Again, green and red are minimum and actual normalized Bayes error rates.  The two dashed/dotted curves correspond to the contribution of the false positives and false negatives tot the total normalized error rate.  The `plo` score is chosen asymmetric, because there often are many more non-target trials than target trials, and hence the accuracy of the metric is better.  \n",
    "\n",
    "Finally, a last graph in this workbook, a plot that show the relation between the actual scores and the optimally calibrated scores (corresponding to the minimum-curves in `nbe` and `ber`).  For well-calibrated log-likelihood-ratio scores this should be a straight line of unit slope.  Let's see what happens for our over-confident llr scores:\n"
   ]
  },
  {
   "cell_type": "code",
   "execution_count": 29,
   "metadata": {
    "collapsed": false
   },
   "outputs": [
    {
     "data": {
      "image/png": "[encoded data removed]",
      "text/plain": [
       "Winston.FramedPlot(...)"
      ]
     },
     "execution_count": 29,
     "metadata": {},
     "output_type": "execute_result"
    }
   ],
   "source": [
    "llrplot(r2)"
   ]
  },
  {
   "cell_type": "markdown",
   "metadata": {},
   "source": [
    "Mmm.  There still is some work to be done in scaling the graphs.  More to come. "
   ]
  },
  {
   "cell_type": "code",
   "execution_count": null,
   "metadata": {
    "collapsed": true
   },
   "outputs": [],
   "source": []
  }
 ],
 "metadata": {
  "kernelspec": {
   "display_name": "Julia 0.4.5",
   "language": "julia",
   "name": "julia-0.4"
  },
  "language_info": {
   "file_extension": ".jl",
   "mimetype": "application/julia",
   "name": "julia",
   "version": "0.4.5"
  }
 },
 "nbformat": 4,
 "nbformat_minor": 0
}
